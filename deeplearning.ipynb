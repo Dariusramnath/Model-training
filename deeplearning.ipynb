{
 "cells": [
  {
   "cell_type": "code",
   "execution_count": 1,
   "metadata": {},
   "outputs": [],
   "source": [
    "from keras.models import Sequential\n",
    "from keras.layers import Convolution2D\n",
    "from keras.layers import MaxPooling2D\n",
    "from keras.layers import Flatten\n",
    "from keras.layers import Dense"
   ]
  },
  {
   "cell_type": "code",
   "execution_count": 2,
   "metadata": {},
   "outputs": [],
   "source": [
    "classifier = Sequential()\n",
    "\n",
    "# Step 1 - Convolution\n",
    "classifier.add(Convolution2D(32, 3, 3, input_shape = (64, 64, 3), activation = 'relu'))\n",
    "\n",
    "# Step 2 - Pooling\n",
    "classifier.add(MaxPooling2D(pool_size = (2, 2)))\n",
    "\n",
    "# Adding a second convolutional layer\n",
    "classifier.add(Convolution2D(32, 3, 3, activation = 'relu'))\n",
    "classifier.add(MaxPooling2D(pool_size = (2, 2)))\n",
    "\n",
    "# Step 3 - Flattening\n",
    "classifier.add(Flatten())\n",
    "\n",
    "# Step 4 - Full connection\n",
    "classifier.add(Dense(128, activation = 'relu'))\n",
    "classifier.add(Dense(1, activation = 'sigmoid'))\n",
    "\n",
    "# Compiling the CNN\n",
    "classifier.compile(optimizer = 'adam', loss = 'binary_crossentropy', metrics = ['accuracy'])"
   ]
  },
  {
   "cell_type": "code",
   "execution_count": 3,
   "metadata": {},
   "outputs": [
    {
     "name": "stdout",
     "output_type": "stream",
     "text": [
      "Found 48 images belonging to 2 classes.\n",
      "Found 71 images belonging to 2 classes.\n"
     ]
    }
   ],
   "source": [
    "from keras.preprocessing.image import ImageDataGenerator\n",
    "\n",
    "train_datagen = ImageDataGenerator(rescale = 1./255,\n",
    "                                   shear_range = 0.2,\n",
    "                                   zoom_range = 0.2,\n",
    "                                   horizontal_flip = True,\n",
    "                                   width_shift_range=0.2,\n",
    "                                   height_shift_range=0.2,\n",
    "                                   rotation_range=15,\n",
    "                                   vertical_flip=True,\n",
    "                                   fill_mode='reflect',\n",
    "                                   data_format='channels_last',\n",
    "                                   brightness_range=[0.5, 1.5],\n",
    "                                   featurewise_center=True,\n",
    "                                   featurewise_std_normalization=True)\n",
    "\n",
    "test_datagen = ImageDataGenerator(rescale = 1./255)\n",
    "\n",
    "training_set = train_datagen.flow_from_directory('dataset/train',\n",
    "                                                 target_size = (64, 64),\n",
    "                                                 batch_size = 32,\n",
    "                                                 class_mode = 'binary')\n",
    "\n",
    "test_set = test_datagen.flow_from_directory('dataset/test',\n",
    "                                            target_size = (64, 64),\n",
    "                                            batch_size = 32,\n",
    "                                            class_mode = 'binary')"
   ]
  },
  {
   "cell_type": "code",
   "execution_count": 4,
   "metadata": {},
   "outputs": [
    {
     "name": "stderr",
     "output_type": "stream",
     "text": [
      "C:\\Users\\Varoun\\anaconda3\\lib\\site-packages\\keras_preprocessing\\image\\image_data_generator.py:720: UserWarning: This ImageDataGenerator specifies `featurewise_center`, but it hasn't been fit on any training data. Fit it first by calling `.fit(numpy_data)`.\n",
      "  warnings.warn('This ImageDataGenerator specifies '\n",
      "C:\\Users\\Varoun\\anaconda3\\lib\\site-packages\\keras_preprocessing\\image\\image_data_generator.py:728: UserWarning: This ImageDataGenerator specifies `featurewise_std_normalization`, but it hasn't been fit on any training data. Fit it first by calling `.fit(numpy_data)`.\n",
      "  warnings.warn('This ImageDataGenerator specifies '\n"
     ]
    },
    {
     "name": "stdout",
     "output_type": "stream",
     "text": [
      "Epoch 1/48\n",
      "2/2 [==============================] - ETA: 0s - loss: 0.6977 - accuracy: 0.4375WARNING:tensorflow:Your input ran out of data; interrupting training. Make sure that your dataset or generator can generate at least `steps_per_epoch * epochs` batches (in this case, 5 batches). You may need to use the repeat() function when building your dataset.\n",
      "2/2 [==============================] - 16s 14s/step - loss: 0.6977 - accuracy: 0.4583 - val_loss: 0.6892 - val_accuracy: 0.5211\n",
      "Epoch 2/48\n",
      "2/2 [==============================] - 5s 2s/step - loss: 0.6937 - accuracy: 0.4722\n",
      "Epoch 3/48\n",
      "2/2 [==============================] - 5s 3s/step - loss: 0.6943 - accuracy: 0.4861\n",
      "Epoch 4/48\n",
      "2/2 [==============================] - 5s 2s/step - loss: 0.6892 - accuracy: 0.6458\n",
      "Epoch 5/48\n",
      "2/2 [==============================] - 5s 3s/step - loss: 0.6873 - accuracy: 0.5833\n",
      "Epoch 6/48\n",
      "2/2 [==============================] - 5s 3s/step - loss: 0.6879 - accuracy: 0.5069\n",
      "Epoch 7/48\n",
      "2/2 [==============================] - 5s 2s/step - loss: 0.6830 - accuracy: 0.5660\n",
      "Epoch 8/48\n",
      "2/2 [==============================] - 5s 2s/step - loss: 0.6776 - accuracy: 0.7500\n",
      "Epoch 9/48\n",
      "2/2 [==============================] - 5s 4s/step - loss: 0.6777 - accuracy: 0.7639\n",
      "Epoch 10/48\n",
      "2/2 [==============================] - 5s 2s/step - loss: 0.6677 - accuracy: 0.7118\n",
      "Epoch 11/48\n",
      "2/2 [==============================] - 5s 3s/step - loss: 0.6641 - accuracy: 0.7014\n",
      "Epoch 12/48\n",
      "2/2 [==============================] - 5s 3s/step - loss: 0.6625 - accuracy: 0.6806\n",
      "Epoch 13/48\n",
      "2/2 [==============================] - 5s 2s/step - loss: 0.6523 - accuracy: 0.7743\n",
      "Epoch 14/48\n",
      "2/2 [==============================] - 5s 3s/step - loss: 0.6408 - accuracy: 0.7847\n",
      "Epoch 15/48\n",
      "2/2 [==============================] - 5s 3s/step - loss: 0.6216 - accuracy: 0.8333\n",
      "Epoch 16/48\n",
      "2/2 [==============================] - 5s 2s/step - loss: 0.6051 - accuracy: 0.8403\n",
      "Epoch 17/48\n",
      "2/2 [==============================] - 5s 2s/step - loss: 0.6037 - accuracy: 0.6910\n",
      "Epoch 18/48\n",
      "2/2 [==============================] - 5s 3s/step - loss: 0.5675 - accuracy: 0.7778\n",
      "Epoch 19/48\n",
      "2/2 [==============================] - 5s 2s/step - loss: 0.5395 - accuracy: 0.8542\n",
      "Epoch 20/48\n",
      "2/2 [==============================] - 5s 3s/step - loss: 0.5350 - accuracy: 0.8194\n",
      "Epoch 21/48\n",
      "2/2 [==============================] - 5s 3s/step - loss: 0.5388 - accuracy: 0.7708\n",
      "Epoch 22/48\n",
      "2/2 [==============================] - 5s 3s/step - loss: 0.4951 - accuracy: 0.7778\n",
      "Epoch 23/48\n",
      "2/2 [==============================] - 5s 3s/step - loss: 0.4414 - accuracy: 0.8889\n",
      "Epoch 24/48\n",
      "2/2 [==============================] - 5s 3s/step - loss: 0.4566 - accuracy: 0.8264\n",
      "Epoch 25/48\n",
      "2/2 [==============================] - 5s 3s/step - loss: 0.4543 - accuracy: 0.8681\n",
      "Epoch 26/48\n",
      "2/2 [==============================] - 5s 3s/step - loss: 0.5142 - accuracy: 0.7500\n",
      "Epoch 27/48\n",
      "2/2 [==============================] - 5s 2s/step - loss: 0.5419 - accuracy: 0.7222\n",
      "Epoch 28/48\n",
      "2/2 [==============================] - 5s 3s/step - loss: 0.5024 - accuracy: 0.7847\n",
      "Epoch 29/48\n",
      "2/2 [==============================] - 5s 3s/step - loss: 0.5019 - accuracy: 0.7917\n",
      "Epoch 30/48\n",
      "2/2 [==============================] - 5s 3s/step - loss: 0.5257 - accuracy: 0.7361\n",
      "Epoch 31/48\n",
      "2/2 [==============================] - 5s 3s/step - loss: 0.4706 - accuracy: 0.7847\n",
      "Epoch 32/48\n",
      "2/2 [==============================] - 5s 2s/step - loss: 0.4110 - accuracy: 0.7951\n",
      "Epoch 33/48\n",
      "2/2 [==============================] - 5s 2s/step - loss: 0.5313 - accuracy: 0.7500\n",
      "Epoch 34/48\n",
      "2/2 [==============================] - 5s 2s/step - loss: 0.4894 - accuracy: 0.7882\n",
      "Epoch 35/48\n",
      "2/2 [==============================] - 5s 3s/step - loss: 0.3894 - accuracy: 0.8611\n",
      "Epoch 36/48\n",
      "2/2 [==============================] - 5s 3s/step - loss: 0.4690 - accuracy: 0.8125\n",
      "Epoch 37/48\n",
      "2/2 [==============================] - 5s 3s/step - loss: 0.4092 - accuracy: 0.8889\n",
      "Epoch 38/48\n",
      "2/2 [==============================] - 5s 2s/step - loss: 0.4281 - accuracy: 0.8368\n",
      "Epoch 39/48\n",
      "2/2 [==============================] - 5s 2s/step - loss: 0.3971 - accuracy: 0.8403\n",
      "Epoch 40/48\n",
      "2/2 [==============================] - 5s 3s/step - loss: 0.3568 - accuracy: 0.9236\n",
      "Epoch 41/48\n",
      "2/2 [==============================] - 5s 3s/step - loss: 0.3750 - accuracy: 0.8542\n",
      "Epoch 42/48\n",
      "2/2 [==============================] - 5s 2s/step - loss: 0.3653 - accuracy: 0.8750\n",
      "Epoch 43/48\n",
      "2/2 [==============================] - 5s 3s/step - loss: 0.4041 - accuracy: 0.8750\n",
      "Epoch 44/48\n",
      "2/2 [==============================] - 5s 3s/step - loss: 0.3554 - accuracy: 0.9028\n",
      "Epoch 45/48\n",
      "2/2 [==============================] - 5s 3s/step - loss: 0.5083 - accuracy: 0.7569\n",
      "Epoch 46/48\n",
      "2/2 [==============================] - 5s 2s/step - loss: 0.4429 - accuracy: 0.7847\n",
      "Epoch 47/48\n",
      "2/2 [==============================] - 5s 3s/step - loss: 0.3072 - accuracy: 0.8333\n",
      "Epoch 48/48\n",
      "2/2 [==============================] - 5s 2s/step - loss: 0.3707 - accuracy: 0.8507\n"
     ]
    }
   ],
   "source": [
    "\n",
    "history = classifier.fit(training_set,\n",
    "                         steps_per_epoch = 2,\n",
    "                         epochs = 48,\n",
    "                         validation_data = test_set,\n",
    "                         validation_steps = 5)"
   ]
  },
  {
   "cell_type": "code",
   "execution_count": 5,
   "metadata": {},
   "outputs": [
    {
     "data": {
      "image/png": "[encoded data removed]",
      "text/plain": [
       "<Figure size 432x288 with 1 Axes>"
      ]
     },
     "metadata": {
      "needs_background": "light"
     },
     "output_type": "display_data"
    }
   ],
   "source": [
    "import matplotlib.pyplot as plt\n",
    "plt.plot(history.history['accuracy'])\n",
    "plt.plot(history.history['val_accuracy'])\n",
    "plt.title('model accuracy')\n",
    "plt.ylabel('accuracy')\n",
    "plt.xlabel('epoch')\n",
    "plt.legend(['train', 'val'], loc='upper left')\n",
    "plt.show()"
   ]
  },
  {
   "cell_type": "code",
   "execution_count": 6,
   "metadata": {},
   "outputs": [
    {
     "data": {
      "image/png": "[encoded data removed]",
      "text/plain": [
       "<Figure size 432x288 with 1 Axes>"
      ]
     },
     "metadata": {
      "needs_background": "light"
     },
     "output_type": "display_data"
    }
   ],
   "source": [
    "plt.plot(history.history['loss'])\n",
    "plt.plot(history.history['val_loss'])\n",
    "plt.title('model loss')\n",
    "plt.ylabel('loss')\n",
    "plt.xlabel('epoch')\n",
    "plt.legend(['train', 'val'], loc='upper left')\n",
    "plt.show()"
   ]
  },
  {
   "cell_type": "code",
   "execution_count": 7,
   "metadata": {},
   "outputs": [
    {
     "name": "stdout",
     "output_type": "stream",
     "text": [
      "Evaluate on test data\n",
      "3/3 [==============================] - 6s 2s/step - loss: 0.1585 - accuracy: 0.9859\n",
      "test loss, test acc: [0.15853796899318695, 0.98591548204422]\n"
     ]
    }
   ],
   "source": [
    "# Evaluate the model on the test data using evaluate\n",
    "print(\"Evaluate on test data\")\n",
    "results = classifier.evaluate(test_set, batch_size=32)\n",
    "print(\"test loss, test acc:\", results)"
   ]
  },
  {
   "cell_type": "code",
   "execution_count": null,
   "metadata": {},
   "outputs": [],
   "source": []
  }
 ],
 "metadata": {
  "kernelspec": {
   "display_name": "Python 3",
   "language": "python",
   "name": "python3"
  },
  "language_info": {
   "codemirror_mode": {
    "name": "ipython",
    "version": 3
   },
   "file_extension": ".py",
   "mimetype": "text/x-python",
   "name": "python",
   "nbconvert_exporter": "python",
   "pygments_lexer": "ipython3",
   "version": "3.8.5"
  }
 },
 "nbformat": 4,
 "nbformat_minor": 4
}
